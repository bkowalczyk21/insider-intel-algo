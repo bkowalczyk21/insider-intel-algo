{
 "cells": [
  {
   "cell_type": "code",
   "execution_count": null,
   "metadata": {},
   "outputs": [],
   "source": []
  },
  {
   "cell_type": "markdown",
   "metadata": {},
   "source": [
    "# Notes:\n",
    "## In footnotes: \n",
    "- Any mention of \"vest\" (122,699 found in footnotes 2018 Q4) and \"retirement\" should be removed\n",
    "- Any mention of \"CHAIRMAN\", \"BOARD\" (), \"MAJOR\" \"CEO\" (85), \"CFO\" should be kept\n",
    "\n",
    "## SEC.GOV Searches:\n",
    " Checkout CIK After:\n",
    "- www.sec.gov/</pre><hr><pre><a href=\"browse-edgar?action=getcompany&amp;CIK=1219106\">0001219106</a>   WALTON JIM C\n",
    "\n",
    "Preform another search:\n",
    "- </pre><hr><a href=\"/edgar/searchedgar/cik.htm\">Perform another Company-CIK Lookup.</a><hr>\n",
    "- https://www.sec.gov/edgar/searchedgar/cik\n",
    "- <form action=\"/cgi-bin/cik_lookup\" method=\"POST\">\n",
    " <form action=\"/cgi-bin/cik_lookup\" method=\"POST\">\n",
    "    <p>\n",
    "        <input class=\"margin-right-4\" id=\"company\" name=\"company\" placeholder=\"Name\"/>\n",
    "        <input class=\"search-button\" type=\"submit\" value=\"Submit\"/>\n",
    "    </p>\n",
    "  </form>\n",
    "\n",
    "At this pooint: Accessing the whole filing might be worthwile.\n",
    "\n",
    "### User Search:\n",
    "https://www.sec.gov/cgi-bin/cik_lookup?company={Name}\n",
    "\n"
   ]
  }
 ],
 "metadata": {
  "language_info": {
   "name": "python"
  }
 },
 "nbformat": 4,
 "nbformat_minor": 2
}
