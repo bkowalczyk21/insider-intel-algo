{
 "cells": [
  {
   "cell_type": "code",
   "execution_count": 1,
   "metadata": {},
   "outputs": [],
   "source": [
    "import pandas as pd\n",
    "import numpy as np\n",
    "import matplotlib.pyplot as plt\n",
    "import seaborn as sns\n",
    "from data_collection import QuiverDatasets\n"
   ]
  },
  {
   "cell_type": "code",
   "execution_count": 2,
   "metadata": {},
   "outputs": [
    {
     "ename": "TypeError",
     "evalue": "make_qq_header() missing 1 required positional argument: 'api_key'",
     "output_type": "error",
     "traceback": [
      "\u001b[0;31m---------------------------------------------------------------------------\u001b[0m",
      "\u001b[0;31mTypeError\u001b[0m                                 Traceback (most recent call last)",
      "\u001b[1;32m/Users/brycekowalczyk/Documents/Documents - MacBook Pro/Businesses/XtraByte Consulting, LLC/Applications/SECForm4AlphaSearch/insider-intel-algo/notebooks/01_qq_insiders_cleaning.ipynb Cell 2\u001b[0m line \u001b[0;36m2\n\u001b[1;32m      <a href='vscode-notebook-cell:/Users/brycekowalczyk/Documents/Documents%20-%20MacBook%20Pro/Businesses/XtraByte%20Consulting%2C%20LLC/Applications/SECForm4AlphaSearch/insider-intel-algo/notebooks/01_qq_insiders_cleaning.ipynb#W1sZmlsZQ%3D%3D?line=0'>1</a>\u001b[0m key \u001b[39m=\u001b[39m read_api_key(\u001b[39m'\u001b[39m\u001b[39mkeys/qq_api_key.txt\u001b[39m\u001b[39m'\u001b[39m)\n\u001b[0;32m----> <a href='vscode-notebook-cell:/Users/brycekowalczyk/Documents/Documents%20-%20MacBook%20Pro/Businesses/XtraByte%20Consulting%2C%20LLC/Applications/SECForm4AlphaSearch/insider-intel-algo/notebooks/01_qq_insiders_cleaning.ipynb#W1sZmlsZQ%3D%3D?line=1'>2</a>\u001b[0m insiders \u001b[39m=\u001b[39m QuiverDatasets(api_key\u001b[39m=\u001b[39;49mkey)\u001b[39m.\u001b[39mget_live_insider_set()\n",
      "File \u001b[0;32m~/Documents/Documents - MacBook Pro/Businesses/XtraByte Consulting, LLC/Applications/SECForm4AlphaSearch/insider-intel-algo/notebooks/data_collection.py:68\u001b[0m, in \u001b[0;36mQuiverDatasets.__init__\u001b[0;34m(self, api_key, base_url, tickers)\u001b[0m\n\u001b[1;32m     66\u001b[0m \u001b[39mself\u001b[39m\u001b[39m.\u001b[39mbase_url \u001b[39m=\u001b[39m base_url\n\u001b[1;32m     67\u001b[0m \u001b[39mself\u001b[39m\u001b[39m.\u001b[39mtickers \u001b[39m=\u001b[39m tickers\n\u001b[0;32m---> 68\u001b[0m \u001b[39mself\u001b[39m\u001b[39m.\u001b[39mheader \u001b[39m=\u001b[39m make_qq_header(api_key)\n",
      "\u001b[0;31mTypeError\u001b[0m: make_qq_header() missing 1 required positional argument: 'api_key'"
     ]
    }
   ],
   "source": [
    "insiders = QuiverDatasets().get_live_insider_set()"
   ]
  }
 ],
 "metadata": {
  "kernelspec": {
   "display_name": "insider_algo",
   "language": "python",
   "name": "python3"
  },
  "language_info": {
   "codemirror_mode": {
    "name": "ipython",
    "version": 3
   },
   "file_extension": ".py",
   "mimetype": "text/x-python",
   "name": "python",
   "nbconvert_exporter": "python",
   "pygments_lexer": "ipython3",
   "version": "3.9.18"
  }
 },
 "nbformat": 4,
 "nbformat_minor": 2
}
