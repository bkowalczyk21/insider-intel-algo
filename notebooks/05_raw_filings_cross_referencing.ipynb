{
 "cells": [
  {
   "cell_type": "code",
   "execution_count": null,
   "metadata": {},
   "outputs": [],
   "source": [
    "import requests\n",
    "import pandas as pd\n",
    "import numpy as np\n",
    "from concurrent.futures import ThreadPoolExecutor\n",
    "from bs4 import BeautifulSoup\n",
    "import xmltodict\n",
    "import json"
   ]
  },
  {
   "cell_type": "markdown",
   "metadata": {},
   "source": [
    "#### The idea here will be to grab all of the other trades from the latest reported insider and create more stats like track record, total trades, companies owned/related to ####\n",
    "- Manually going to try to find a pattern in the archive number....\n",
    "\n",
    "* 000089924322039336\n",
    "* 000035069822000148\n",
    "\n",
    "* 000095017024023496\n",
    "* 000095017024020532\n",
    "* \n",
    "\n",
    "#### Nevermind... found a link JSON of every filing from any CIK. Just need to sift out for 4s\n",
    "\n",
    "- Base URL: data.sec.gov/submissions/{CIK**********}.json\n",
    "- e.g., https://data.sec.gov/submissions/CIK0001183200.json"
   ]
  },
  {
   "cell_type": "code",
   "execution_count": null,
   "metadata": {},
   "outputs": [],
   "source": [
    "filings_url = 'https://www.sec.gov/submissions/'\n",
    "header = {'User-Agent': 'XtraByte Con/sulting, Inc., bkowalczyk@xtrabyteconsulting.com',\n",
    "          'Accept': 'appliatcionjson',\n",
    "          'Accept-Encoding': 'gzip, deflate'}\n",
    "params = {'dataRange' : 'all',\n",
    "          'category' : 'custom',\n",
    "          'ciks' : f'{flat_inside_her_[\"ownershipDocument_reportingOwner_reportingOwnerId_rptOwnerCik\"]}',\n",
    "          'entityName' : f'{flat_inside_her_[\"ownershipDocument_reportingOwner_reportingOwnerId_rptOwnerName\"]}',\n",
    "          'forms' : '4',}\n",
    "edward_filings = requests.get(filings_url, params=params, headers=header)\n",
    "edward_filings.content"
   ]
  }
 ],
 "metadata": {
  "language_info": {
   "name": "python"
  }
 },
 "nbformat": 4,
 "nbformat_minor": 2
}
